{
 "cells": [
  {
   "cell_type": "code",
   "execution_count": 32,
   "metadata": {},
   "outputs": [],
   "source": [
    "set.seed(2020)\n",
    "setwd('/gpfs/ysm/pi/zhao-data/wd262/new_cytof/CyTOF_classification')\n",
    "source('run_para.R')\n",
    "#suppressPackageStartupMessages(library(SummarizedExperiment))\n",
    "options(repr.plot.width=14, repr.plot.height=10)\n",
    "library(Seurat)"
   ]
  },
  {
   "cell_type": "code",
   "execution_count": 5,
   "metadata": {},
   "outputs": [],
   "source": [
    "files = list.files(path = '/gpfs/loomis/pi/zhao2/wd262/shared_data/CyTOF/covid_Rodriguez/expr_trans_singlets/',pattern = \"COV*\", full.names = TRUE)\n",
    "#samples = list.files(path = '/gpfs/loomis/pi/zhao2/wd262/shared_data/CyTOF/covid_Rodriguez/expr_trans_singlets/',pattern = \"COV*\", full.names = FALSE)\n",
    "metadata <- read.csv('/gpfs/loomis/pi/zhao2/wd262/shared_data/CyTOF/covid_Rodriguez/expr_trans_singlets/meta_data.csv',header=T,row.names=1)"
   ]
  },
  {
   "cell_type": "code",
   "execution_count": 38,
   "metadata": {},
   "outputs": [],
   "source": [
    "# load input\n",
    "expr <- readRDS(files[1])\n",
    "A0 <- read.csv('/gpfs/ysm/pi/zhao-data/wd262/new_cytof/CyTOF_classification/write/matrix_A0/A0_covid_Rodrigeuz.csv',header =T, row.names=1)\n",
    "AS <- matrix(rep(0, nrow(A0)*ncol(A0)),nrow = nrow(A0), ncol=ncol(A0))\n",
    "lineage_channels = rownames(A0)\n",
    "X <- expr[,lineage_channels]\n",
    "X <- t(as.matrix(X))\n",
    "A0 <- as.matrix(A0)"
   ]
  },
  {
   "cell_type": "code",
   "execution_count": 42,
   "metadata": {},
   "outputs": [],
   "source": [
    "X <- X[,1:1000]"
   ]
  },
  {
   "cell_type": "code",
   "execution_count": 48,
   "metadata": {},
   "outputs": [
    {
     "name": "stderr",
     "output_type": "stream",
     "text": [
      "Warning message:\n",
      "“The following arguments are not used: slot”\n",
      "Centering and scaling data matrix\n",
      "\n",
      "Warning message in PrepDR(object = object, features = features, verbose = verbose):\n",
      "“The following 13 features requested have not been scaled (running reduction without them): CD3, IgD, CD4, CD8a, CD16, CD127, CD33, CD56, HLA-DR, CD28, CD27, CD55, Siglec-8”\n",
      "Warning message in irlba(A = t(x = object), nv = npcs, ...):\n",
      "“You're computing too large a percentage of total singular values, use a standard svd instead.”\n",
      "Warning message in irlba(A = t(x = object), nv = npcs, ...):\n",
      "“did not converge--results might be invalid!; try increasing work or maxit”\n",
      "PC_ 1 \n",
      "Positive:  CD38, CD14, CD11c, CD45RA, CD161, CD123, CD20, CD25, TCRgd, CD24 \n",
      "Negative:  CD24, TCRgd, CD25, CD20, CD123, CD161, CD45RA, CD11c, CD14, CD38 \n",
      "PC_ 2 \n",
      "Positive:  CD14, CD11c, CD24, CD38, CD123, TCRgd, CD25, CD20, CD161, CD45RA \n",
      "Negative:  CD45RA, CD161, CD20, CD25, TCRgd, CD123, CD38, CD24, CD11c, CD14 \n",
      "PC_ 3 \n",
      "Positive:  CD20, CD11c, CD45RA, CD14, CD123, TCRgd, CD25, CD24, CD38, CD161 \n",
      "Negative:  CD161, CD38, CD24, CD25, TCRgd, CD123, CD14, CD45RA, CD11c, CD20 \n",
      "PC_ 4 \n",
      "Positive:  CD25, CD123, CD38, TCRgd, CD20, CD14, CD24, CD11c, CD161, CD45RA \n",
      "Negative:  CD45RA, CD161, CD11c, CD24, CD14, CD20, TCRgd, CD38, CD123, CD25 \n",
      "PC_ 5 \n",
      "Positive:  CD38, CD20, CD24, CD14, CD161, CD25, TCRgd, CD45RA, CD123, CD11c \n",
      "Negative:  CD11c, CD123, CD45RA, TCRgd, CD25, CD161, CD14, CD24, CD20, CD38 \n",
      "\n",
      "Computing nearest neighbor graph\n",
      "\n",
      "Computing SNN\n",
      "\n"
     ]
    },
    {
     "name": "stdout",
     "output_type": "stream",
     "text": [
      "Modularity Optimizer version 1.3.0 by Ludo Waltman and Nees Jan van Eck\n",
      "\n",
      "Number of nodes: 1000\n",
      "Number of edges: 26261\n",
      "\n",
      "Running Louvain algorithm...\n",
      "Maximum modularity in 10 random starts: 0.7631\n",
      "Number of communities: 16\n",
      "Elapsed time: 0 seconds\n"
     ]
    },
    {
     "name": "stderr",
     "output_type": "stream",
     "text": [
      "15:58:33 UMAP embedding parameters a = 0.9922 b = 1.112\n",
      "\n",
      "15:58:33 Read 1000 rows and found 5 numeric columns\n",
      "\n",
      "15:58:33 Using Annoy for neighbor search, n_neighbors = 30\n",
      "\n",
      "15:58:33 Building Annoy index with metric = cosine, n_trees = 50\n",
      "\n",
      "0%   10   20   30   40   50   60   70   80   90   100%\n",
      "\n",
      "[----|----|----|----|----|----|----|----|----|----|\n",
      "\n",
      "*\n",
      "*\n",
      "*\n",
      "*\n",
      "*\n",
      "*\n",
      "*\n",
      "*\n",
      "*\n",
      "*\n",
      "*\n",
      "*\n",
      "*\n",
      "*\n",
      "*\n",
      "*\n",
      "*\n",
      "*\n",
      "*\n",
      "*\n",
      "*\n",
      "*\n",
      "*\n",
      "*\n",
      "*\n",
      "*\n",
      "*\n",
      "*\n",
      "*\n",
      "*\n",
      "*\n",
      "*\n",
      "*\n",
      "*\n",
      "*\n",
      "*\n",
      "*\n",
      "*\n",
      "*\n",
      "*\n",
      "*\n",
      "*\n",
      "*\n",
      "*\n",
      "*\n",
      "*\n",
      "*\n",
      "*\n",
      "*\n",
      "*\n",
      "\n",
      "|\n",
      "\n",
      "15:58:33 Writing NN index file to temp file /tmp/RtmpHGuWPl/file3ad9c3de39c35\n",
      "\n",
      "15:58:33 Searching Annoy index using 1 thread, search_k = 3000\n",
      "\n",
      "15:58:33 Annoy recall = 100%\n",
      "\n",
      "15:58:34 Commencing smooth kNN distance calibration using 1 thread\n",
      "\n",
      "15:58:34 14 smooth knn distance failures\n",
      "\n",
      "15:58:34 Initializing from normalized Laplacian + noise\n",
      "\n",
      "15:58:34 Commencing optimization for 500 epochs, with 36986 positive edges\n",
      "\n",
      "15:58:37 Optimization finished\n",
      "\n"
     ]
    }
   ],
   "source": [
    "\n",
    "    seur <- CreateSeuratObject( X)\n",
    "    seur <- NormalizeData(seur) \n",
    "    seur@assays$RNA@data = seur@assays$RNA@counts\n",
    "    seur <- FindVariableFeatures(seur, slot='counts', selection.method = \"vst\", nfeatures = 10)\n",
    "    seur <- ScaleData(seur)\n",
    "    seur <- RunPCA(seur,verbose = TRUE,features = rownames(seur))\n",
    "    seur <- FindNeighbors(seur, dims = 1:6)\n",
    "    seur <- FindClusters(seur, resolution = 1.2)\n",
    "    seur <- RunUMAP(seur, dims = 1:5)\n",
    "\n",
    "\n",
    "    D = nrow(X)\n",
    "    K = ncol(AS)\n",
    "    N = ncol(X)"
   ]
  },
  {
   "cell_type": "code",
   "execution_count": 49,
   "metadata": {},
   "outputs": [
    {
     "name": "stdout",
     "output_type": "stream",
     "text": [
      "[1] \"step 1 : get an initial eta by kkt condition\"\n",
      "[1] \"iteration = 6\"\n",
      "[1] 49.74481\n",
      "[1] \"step 2 : get the initial lambdas by screening\"\n",
      "[1] \"iteration = 5\"\n",
      "[1] \"lambda = 0.2, ARI = 0.15191017405304\"\n",
      "[1] \"iteration = 6\"\n",
      "[1] \"lambda = 2, ARI = 0.16066344366232\"\n",
      "[1] \"iteration = 6\"\n",
      "[1] \"lambda = 20, ARI = 0.163447060535981\"\n",
      "[1] \"iteration = 6\"\n",
      "[1] \"lambda = 200, ARI = 0.167242983000801\"\n",
      "[1]   0.000000 200.000000   0.167243\n",
      "[1] \"step 3 : get mu by W reliability\"\n",
      "[1] \"iteration = 6\"\n",
      "[1] 241.3259\n",
      "[1] \"iteration = 6\"\n",
      "[1] 24.43651\n",
      "[1] \"iteration = 6\"\n",
      "[1] 2.010564\n",
      "[1] \"iteration = 6\"\n",
      "[1] 0.1101294\n",
      "[1] \"mu = 100\"\n",
      "[1] \"step 6 : select the best mu\"\n",
      "[1] \"iteration = 6\"\n",
      "[1] \"iteration = 6\"\n",
      "[1] \"iteration = 6\"\n",
      "[1] \"layer = 1\"\n",
      "[1]  50 100 200\n",
      "[1] 0.1672430 0.1701448 0.1697084\n",
      "[1] 0.1504481 0.1101294 0.2656246\n",
      "[1] \"iteration = 6\"\n",
      "[1] \"iteration = 6\"\n",
      "[1] \"layer = 2\"\n",
      "[1]  75 100 150\n",
      "[1] 0.1684600 0.1701448 0.1699201\n",
      "[1] 0.02107006 0.11012937 0.21036235\n",
      "[1] \"iteration = 6\"\n",
      "[1] \"iteration = 6\"\n",
      "[1] \"layer = 3\"\n",
      "[1]  87.5 100.0 125.0\n",
      "[1] 0.1694563 0.1701448 0.1700355\n",
      "[1] 0.07083464 0.11012937 0.16870622\n",
      "[1] \"mu = 100\"\n",
      "[1] \"step 7 : select the best lambda\"\n",
      "[1] \"iteration = 6\"\n",
      "[1] \"iteration = 6\"\n",
      "[1] \"iteration = 6\"\n",
      "[1] \"layer = 1\"\n",
      "[1] 100 200 400\n",
      "[1] 0.1703116 0.1701448 0.1656501\n",
      "[1] \"iteration = 6\"\n",
      "[1] \"iteration = 6\"\n",
      "[1] \"layer = 2\"\n",
      "[1]  50 100 150\n",
      "[1] 0.1677410 0.1703116 0.1700570\n",
      "[1] \"iteration = 6\"\n",
      "[1] \"iteration = 6\"\n",
      "[1] \"layer = 3\"\n",
      "[1]  75 100 125\n",
      "[1] 0.1681552 0.1703116 0.1701904\n",
      "[1] 100\n",
      "[1] \"ARI after step 7 is 0.17031160573719\"\n",
      "[1] \"step 8 : select the best mu and lambda one more time if ARI is too low\"\n",
      "[1] \"select the best eta one more time\"\n",
      "[1] \"iteration = 6\"\n",
      "[1] \"iteration = 6\"\n",
      "[1] \"iteration = 6\"\n",
      "[1] \"layer = 1\"\n",
      "[1] 24.87240 49.74481 99.48961\n",
      "[1] 0.1703242 0.1703116 0.1696183\n",
      "[1] 0.2276958 0.2316178 0.2340070\n",
      "[1] \"iteration = 6\"\n",
      "[1] \"iteration = 6\"\n",
      "[1] \"layer = 2\"\n",
      "[1] 12.4362 24.8724 37.3086\n",
      "[1] 0.1696656 0.1703242 0.1702147\n",
      "[1] 0.2227062 0.2276958 0.2301877\n",
      "[1] \"iteration = 6\"\n",
      "[1] \"iteration = 6\"\n",
      "[1] \"layer = 3\"\n",
      "[1] 18.6543 24.8724 31.0905\n",
      "[1] 0.1699944 0.1703242 0.1702358\n",
      "[1] 0.2256553 0.2276958 0.2291338\n",
      "[1] \"eta = 24.8724027346822\"\n",
      "[1] \"select the best mu one more time\"\n",
      "[1] \"iteration = 6\"\n",
      "[1] \"iteration = 6\"\n",
      "[1] \"iteration = 6\"\n",
      "[1] \"layer = 1\"\n",
      "[1]  50 100 200\n",
      "[1] 0.1696048 0.1703242 0.1704859\n",
      "[1] 0.07296519 0.22769582 0.32817252\n",
      "[1] \"iteration = 6\"\n",
      "[1] \"iteration = 6\"\n",
      "[1] \"layer = 2\"\n",
      "[1] 150 200 400\n",
      "[1] 0.1706783 0.1704859 0.1696350\n",
      "[1] 0.2929551 0.3281725 0.3838054\n",
      "[1] \"iteration = 6\"\n",
      "[1] \"iteration = 6\"\n",
      "[1] \"layer = 3\"\n",
      "[1] 125 150 175\n",
      "[1] 0.1700596 0.1706783 0.1702281\n",
      "[1] 0.2659575 0.2929551 0.3129470\n",
      "[1] \"mu = 150\"\n",
      "[1] \"select the best lambda one more time\"\n",
      "[1] \"iteration = 6\"\n",
      "[1] \"iteration = 6\"\n",
      "[1] \"iteration = 6\"\n",
      "[1] \"layer = 1\"\n",
      "[1]  50 100 200\n",
      "[1] 0.1683224 0.1706783 0.1696169\n",
      "[1] \"iteration = 6\"\n",
      "[1] \"iteration = 6\"\n",
      "[1] \"layer = 2\"\n",
      "[1]  75 100 150\n",
      "[1] 0.1699742 0.1706783 0.1704504\n",
      "[1] \"iteration = 6\"\n",
      "[1] \"iteration = 6\"\n",
      "[1] \"layer = 3\"\n",
      "[1]  87.5 100.0 125.0\n",
      "[1] 0.1702520 0.1706783 0.1696738\n",
      "[1] 100\n",
      "[1] \"ARI after step 8 is 0.170678292593243\"\n"
     ]
    }
   ],
   "source": [
    "rst.para<-runOptimalPara(X,AS,A0,D,K,N, epsilon = 0.01,fixed_loop=5,depth=3,lambda1.on=F,lambda2.on=T)\n"
   ]
  },
  {
   "cell_type": "code",
   "execution_count": 50,
   "metadata": {},
   "outputs": [
    {
     "name": "stdout",
     "output_type": "stream",
     "text": [
      "[1] \"iteration = 501\"\n"
     ]
    }
   ],
   "source": [
    "rst<-run(X,rst.para$para$lambda1,rst.para$para$lambda2,rst.para$para$mu,rst.para$para$eta,\n",
    "            AS,A0,D,K,N, epsilon = 10^(-3),fixed_loop=500)"
   ]
  },
  {
   "cell_type": "code",
   "execution_count": 53,
   "metadata": {},
   "outputs": [],
   "source": [
    "H_est <- data.frame(rst$H)\n",
    "H_est <- cbind(matrix(colnames(A0),ncol=1),H_est)"
   ]
  },
  {
   "cell_type": "code",
   "execution_count": 55,
   "metadata": {},
   "outputs": [],
   "source": [
    "celltype_pred <- apply(rst$H, 2, predict_realdata)"
   ]
  },
  {
   "cell_type": "code",
   "execution_count": 57,
   "metadata": {},
   "outputs": [
    {
     "name": "stdout",
     "output_type": "stream",
     "text": [
      "'data.frame':\t80 obs. of  6 variables:\n",
      " $ Sample.ID           : Factor w/ 80 levels \"COV-10_20200408\",..: 1 2 3 4 5 6 7 8 9 10 ...\n",
      " $ Subject.ID          : Factor w/ 37 levels \"COV-10\",\"COV-11\",..: 1 2 3 4 5 6 7 8 9 10 ...\n",
      " $ Patient_Group       : Factor w/ 4 levels \"Acute\",\"ICU\",..: 4 4 NA 4 4 4 4 4 4 4 ...\n",
      " $ Date                : Factor w/ 24 levels \"2020-04-08\",\"2020-04-09\",..: 1 1 NA 1 1 1 1 1 2 2 ...\n",
      " $ Days_After_Admission: int  0 0 NA 0 0 0 0 0 0 0 ...\n",
      " $ dir                 : Factor w/ 80 levels \"/gpfs/loomis/pi/zhao2/wd262/shared_data/CyTOF/covid_Rodriguez/expr_trans_singlets/COV-10_20200408.rds\",..: 1 2 3 4 5 6 7 8 9 10 ...\n"
     ]
    }
   ],
   "source": [
    "str(metadata)"
   ]
  },
  {
   "cell_type": "code",
   "execution_count": 59,
   "metadata": {},
   "outputs": [],
   "source": [
    "## get BCR_run dsq bash\n",
    "## write dsq files\n",
    "writefunc <-\"   \"\n",
    "for(i in 1:nrow(metadata)){\n",
    "\n",
    "   writefunc<-rbind(writefunc, paste0('module load R; cd /gpfs/ysm/pi/zhao-data/wd262/new_cytof/CyTOF_classification; Rscript ./covid_RealApplication/run_covid_Rodriguez.R ',metadata$dir[i],\" /gpfs/ysm/pi/zhao-data/wd262/new_cytof/CyTOF_classification/write/matrix_A0/A0_covid_Rodrigeuz.csv \",metadata$Sample.ID[i]) )\n",
    "\n",
    "}\n",
    "write.table(writefunc, file ='/gpfs/ysm/pi/zhao-data/wd262/new_cytof/Real_Application/covid_GetRst_dsq_jobs.sh', row.names = FALSE, col.names = FALSE, quote=FALSE)\n"
   ]
  },
  {
   "cell_type": "code",
   "execution_count": 60,
   "metadata": {},
   "outputs": [],
   "source": [
    "covid_rami <- readRDS(\"/gpfs/loomis/pi/zhao2/wd262/shared_data/covid19/seurat_obj/CITEseq/CITE_all.rds\")"
   ]
  },
  {
   "cell_type": "code",
   "execution_count": 61,
   "metadata": {},
   "outputs": [
    {
     "data": {
      "text/plain": [
       "\n",
       "Classical monocytes effector CD4+T cell effector CD8+T cell            Memory B \n",
       "               5990                 158                2435                1021 \n",
       "       Memory CD4 T        Memory CD8 T          Myeloid DC             Naive B \n",
       "               2960                1036                 346                1264 \n",
       "        Naive CD4 T         Naive CD8 T   NC & IM monocytes             NK cell \n",
       "               2532                 391                1259                1806 \n",
       "       Plasma cells     Plasmacytoid DC               Tregs \n",
       "                248                 129                 462 "
      ]
     },
     "metadata": {},
     "output_type": "display_data"
    }
   ],
   "source": [
    "table(covid_rami$celltype_clean)"
   ]
  },
  {
   "cell_type": "code",
   "execution_count": 63,
   "metadata": {},
   "outputs": [],
   "source": [
    "write.table(rownames(A0),\"/gpfs/ysm/pi/zhao-data/wd262/new_cytof/CyTOF_classification/write/ADTList/ADTList_covid.Rodriguez_in_covid.Rami.txt\",row.names=F,quote=F)"
   ]
  },
  {
   "cell_type": "code",
   "execution_count": 64,
   "metadata": {},
   "outputs": [
    {
     "data": {
      "text/html": [
       "<style>\n",
       ".list-inline {list-style: none; margin:0; padding: 0}\n",
       ".list-inline>li {display: inline-block}\n",
       ".list-inline>li:not(:last-child)::after {content: \"\\00b7\"; padding: 0 .5ex}\n",
       "</style>\n",
       "<ol class=list-inline><li>'CD3'</li><li>'IgD'</li><li>'CD20'</li><li>'CD4'</li><li>'CD8a'</li><li>'CD11c'</li><li>'CD16'</li><li>'CD14'</li><li>'CD45RA'</li><li>'CD127'</li><li>'CD33'</li><li>'CD24'</li><li>'TCRgd'</li><li>'CD123'</li><li>'CD56'</li><li>'CD25'</li><li>'HLA-DR'</li><li>'CD161'</li><li>'CD28'</li><li>'CD38'</li><li>'CD27'</li><li>'CD55'</li><li>'Siglec-8'</li></ol>\n"
      ],
      "text/latex": [
       "\\begin{enumerate*}\n",
       "\\item 'CD3'\n",
       "\\item 'IgD'\n",
       "\\item 'CD20'\n",
       "\\item 'CD4'\n",
       "\\item 'CD8a'\n",
       "\\item 'CD11c'\n",
       "\\item 'CD16'\n",
       "\\item 'CD14'\n",
       "\\item 'CD45RA'\n",
       "\\item 'CD127'\n",
       "\\item 'CD33'\n",
       "\\item 'CD24'\n",
       "\\item 'TCRgd'\n",
       "\\item 'CD123'\n",
       "\\item 'CD56'\n",
       "\\item 'CD25'\n",
       "\\item 'HLA-DR'\n",
       "\\item 'CD161'\n",
       "\\item 'CD28'\n",
       "\\item 'CD38'\n",
       "\\item 'CD27'\n",
       "\\item 'CD55'\n",
       "\\item 'Siglec-8'\n",
       "\\end{enumerate*}\n"
      ],
      "text/markdown": [
       "1. 'CD3'\n",
       "2. 'IgD'\n",
       "3. 'CD20'\n",
       "4. 'CD4'\n",
       "5. 'CD8a'\n",
       "6. 'CD11c'\n",
       "7. 'CD16'\n",
       "8. 'CD14'\n",
       "9. 'CD45RA'\n",
       "10. 'CD127'\n",
       "11. 'CD33'\n",
       "12. 'CD24'\n",
       "13. 'TCRgd'\n",
       "14. 'CD123'\n",
       "15. 'CD56'\n",
       "16. 'CD25'\n",
       "17. 'HLA-DR'\n",
       "18. 'CD161'\n",
       "19. 'CD28'\n",
       "20. 'CD38'\n",
       "21. 'CD27'\n",
       "22. 'CD55'\n",
       "23. 'Siglec-8'\n",
       "\n",
       "\n"
      ],
      "text/plain": [
       " [1] \"CD3\"      \"IgD\"      \"CD20\"     \"CD4\"      \"CD8a\"     \"CD11c\"   \n",
       " [7] \"CD16\"     \"CD14\"     \"CD45RA\"   \"CD127\"    \"CD33\"     \"CD24\"    \n",
       "[13] \"TCRgd\"    \"CD123\"    \"CD56\"     \"CD25\"     \"HLA-DR\"   \"CD161\"   \n",
       "[19] \"CD28\"     \"CD38\"     \"CD27\"     \"CD55\"     \"Siglec-8\""
      ]
     },
     "metadata": {},
     "output_type": "display_data"
    }
   ],
   "source": [
    "rownames(A0)"
   ]
  },
  {
   "cell_type": "code",
   "execution_count": null,
   "metadata": {},
   "outputs": [],
   "source": []
  }
 ],
 "metadata": {
  "kernelspec": {
   "display_name": "R",
   "language": "R",
   "name": "ir"
  },
  "language_info": {
   "codemirror_mode": "r",
   "file_extension": ".r",
   "mimetype": "text/x-r-source",
   "name": "R",
   "pygments_lexer": "r",
   "version": "3.6.1"
  }
 },
 "nbformat": 4,
 "nbformat_minor": 4
}
