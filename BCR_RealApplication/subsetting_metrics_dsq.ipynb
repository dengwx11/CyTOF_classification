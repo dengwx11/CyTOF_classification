{
 "cells": [
  {
   "cell_type": "code",
   "execution_count": 1,
   "metadata": {},
   "outputs": [
    {
     "data": {
      "text/html": [
       "<style>\n",
       ".list-inline {list-style: none; margin:0; padding: 0}\n",
       ".list-inline>li {display: inline-block}\n",
       ".list-inline>li:not(:last-child)::after {content: \"\\00b7\"; padding: 0 .5ex}\n",
       "</style>\n",
       "<ol class=list-inline><li>'patient1'</li><li>'patient2'</li><li>'patient3'</li><li>'patient4'</li><li>'patient5'</li><li>'patient6'</li><li>'patient7'</li><li>'patient8'</li></ol>\n"
      ],
      "text/latex": [
       "\\begin{enumerate*}\n",
       "\\item 'patient1'\n",
       "\\item 'patient2'\n",
       "\\item 'patient3'\n",
       "\\item 'patient4'\n",
       "\\item 'patient5'\n",
       "\\item 'patient6'\n",
       "\\item 'patient7'\n",
       "\\item 'patient8'\n",
       "\\end{enumerate*}\n"
      ],
      "text/markdown": [
       "1. 'patient1'\n",
       "2. 'patient2'\n",
       "3. 'patient3'\n",
       "4. 'patient4'\n",
       "5. 'patient5'\n",
       "6. 'patient6'\n",
       "7. 'patient7'\n",
       "8. 'patient8'\n",
       "\n",
       "\n"
      ],
      "text/plain": [
       "[1] \"patient1\" \"patient2\" \"patient3\" \"patient4\" \"patient5\" \"patient6\" \"patient7\"\n",
       "[8] \"patient8\""
      ]
     },
     "metadata": {},
     "output_type": "display_data"
    }
   ],
   "source": [
    "patients <- paste0('patient', 1:8)\n",
    "patients\n"
   ]
  },
  {
   "cell_type": "code",
   "execution_count": 6,
   "metadata": {},
   "outputs": [],
   "source": [
    "patients <- paste0('patient', 1:8)\n",
    "conditions <- c('BCR-XL', 'Reference')\n",
    "writefunc <- c()\n",
    "for(patient in patients) {\n",
    "    for(condition in conditions) {\n",
    "        writefunc <- rbind(writefunc, paste('module load miniconda; source activate r_env; cd /home/bz234/github/CyTOF_classification/; Rscript --vanilla ./BCR_RealApplication/subsetting_metrics.R', paste(patient, condition, sep = '_')))\n",
    "    } \n",
    "}\n",
    "write.table(writefunc, file ='/home/bz234/Scripts/bash/CyTOF/dsq/subsetting_metrics.txt', row.names = FALSE, col.names = FALSE, quote=FALSE)"
   ]
  },
  {
   "cell_type": "code",
   "execution_count": 7,
   "metadata": {},
   "outputs": [
    {
     "data": {
      "text/html": [
       "<table>\n",
       "<caption>A matrix: 16 × 1 of type chr</caption>\n",
       "<tbody>\n",
       "\t<tr><td>module load miniconda; source activate r_env; cd /home/bz234/github/CyTOF_classification/; Rscript --vanilla ./BCR_RealApplication/subsetting_metrics.R patient1_BCR-XL   </td></tr>\n",
       "\t<tr><td>module load miniconda; source activate r_env; cd /home/bz234/github/CyTOF_classification/; Rscript --vanilla ./BCR_RealApplication/subsetting_metrics.R patient1_Reference</td></tr>\n",
       "\t<tr><td>module load miniconda; source activate r_env; cd /home/bz234/github/CyTOF_classification/; Rscript --vanilla ./BCR_RealApplication/subsetting_metrics.R patient2_BCR-XL   </td></tr>\n",
       "\t<tr><td>module load miniconda; source activate r_env; cd /home/bz234/github/CyTOF_classification/; Rscript --vanilla ./BCR_RealApplication/subsetting_metrics.R patient2_Reference</td></tr>\n",
       "\t<tr><td>module load miniconda; source activate r_env; cd /home/bz234/github/CyTOF_classification/; Rscript --vanilla ./BCR_RealApplication/subsetting_metrics.R patient3_BCR-XL   </td></tr>\n",
       "\t<tr><td>module load miniconda; source activate r_env; cd /home/bz234/github/CyTOF_classification/; Rscript --vanilla ./BCR_RealApplication/subsetting_metrics.R patient3_Reference</td></tr>\n",
       "\t<tr><td>module load miniconda; source activate r_env; cd /home/bz234/github/CyTOF_classification/; Rscript --vanilla ./BCR_RealApplication/subsetting_metrics.R patient4_BCR-XL   </td></tr>\n",
       "\t<tr><td>module load miniconda; source activate r_env; cd /home/bz234/github/CyTOF_classification/; Rscript --vanilla ./BCR_RealApplication/subsetting_metrics.R patient4_Reference</td></tr>\n",
       "\t<tr><td>module load miniconda; source activate r_env; cd /home/bz234/github/CyTOF_classification/; Rscript --vanilla ./BCR_RealApplication/subsetting_metrics.R patient5_BCR-XL   </td></tr>\n",
       "\t<tr><td>module load miniconda; source activate r_env; cd /home/bz234/github/CyTOF_classification/; Rscript --vanilla ./BCR_RealApplication/subsetting_metrics.R patient5_Reference</td></tr>\n",
       "\t<tr><td>module load miniconda; source activate r_env; cd /home/bz234/github/CyTOF_classification/; Rscript --vanilla ./BCR_RealApplication/subsetting_metrics.R patient6_BCR-XL   </td></tr>\n",
       "\t<tr><td>module load miniconda; source activate r_env; cd /home/bz234/github/CyTOF_classification/; Rscript --vanilla ./BCR_RealApplication/subsetting_metrics.R patient6_Reference</td></tr>\n",
       "\t<tr><td>module load miniconda; source activate r_env; cd /home/bz234/github/CyTOF_classification/; Rscript --vanilla ./BCR_RealApplication/subsetting_metrics.R patient7_BCR-XL   </td></tr>\n",
       "\t<tr><td>module load miniconda; source activate r_env; cd /home/bz234/github/CyTOF_classification/; Rscript --vanilla ./BCR_RealApplication/subsetting_metrics.R patient7_Reference</td></tr>\n",
       "\t<tr><td>module load miniconda; source activate r_env; cd /home/bz234/github/CyTOF_classification/; Rscript --vanilla ./BCR_RealApplication/subsetting_metrics.R patient8_BCR-XL   </td></tr>\n",
       "\t<tr><td>module load miniconda; source activate r_env; cd /home/bz234/github/CyTOF_classification/; Rscript --vanilla ./BCR_RealApplication/subsetting_metrics.R patient8_Reference</td></tr>\n",
       "</tbody>\n",
       "</table>\n"
      ],
      "text/latex": [
       "A matrix: 16 × 1 of type chr\n",
       "\\begin{tabular}{l}\n",
       "\t module load miniconda; source activate r\\_env; cd /home/bz234/github/CyTOF\\_classification/; Rscript --vanilla ./BCR\\_RealApplication/subsetting\\_metrics.R patient1\\_BCR-XL   \\\\\n",
       "\t module load miniconda; source activate r\\_env; cd /home/bz234/github/CyTOF\\_classification/; Rscript --vanilla ./BCR\\_RealApplication/subsetting\\_metrics.R patient1\\_Reference\\\\\n",
       "\t module load miniconda; source activate r\\_env; cd /home/bz234/github/CyTOF\\_classification/; Rscript --vanilla ./BCR\\_RealApplication/subsetting\\_metrics.R patient2\\_BCR-XL   \\\\\n",
       "\t module load miniconda; source activate r\\_env; cd /home/bz234/github/CyTOF\\_classification/; Rscript --vanilla ./BCR\\_RealApplication/subsetting\\_metrics.R patient2\\_Reference\\\\\n",
       "\t module load miniconda; source activate r\\_env; cd /home/bz234/github/CyTOF\\_classification/; Rscript --vanilla ./BCR\\_RealApplication/subsetting\\_metrics.R patient3\\_BCR-XL   \\\\\n",
       "\t module load miniconda; source activate r\\_env; cd /home/bz234/github/CyTOF\\_classification/; Rscript --vanilla ./BCR\\_RealApplication/subsetting\\_metrics.R patient3\\_Reference\\\\\n",
       "\t module load miniconda; source activate r\\_env; cd /home/bz234/github/CyTOF\\_classification/; Rscript --vanilla ./BCR\\_RealApplication/subsetting\\_metrics.R patient4\\_BCR-XL   \\\\\n",
       "\t module load miniconda; source activate r\\_env; cd /home/bz234/github/CyTOF\\_classification/; Rscript --vanilla ./BCR\\_RealApplication/subsetting\\_metrics.R patient4\\_Reference\\\\\n",
       "\t module load miniconda; source activate r\\_env; cd /home/bz234/github/CyTOF\\_classification/; Rscript --vanilla ./BCR\\_RealApplication/subsetting\\_metrics.R patient5\\_BCR-XL   \\\\\n",
       "\t module load miniconda; source activate r\\_env; cd /home/bz234/github/CyTOF\\_classification/; Rscript --vanilla ./BCR\\_RealApplication/subsetting\\_metrics.R patient5\\_Reference\\\\\n",
       "\t module load miniconda; source activate r\\_env; cd /home/bz234/github/CyTOF\\_classification/; Rscript --vanilla ./BCR\\_RealApplication/subsetting\\_metrics.R patient6\\_BCR-XL   \\\\\n",
       "\t module load miniconda; source activate r\\_env; cd /home/bz234/github/CyTOF\\_classification/; Rscript --vanilla ./BCR\\_RealApplication/subsetting\\_metrics.R patient6\\_Reference\\\\\n",
       "\t module load miniconda; source activate r\\_env; cd /home/bz234/github/CyTOF\\_classification/; Rscript --vanilla ./BCR\\_RealApplication/subsetting\\_metrics.R patient7\\_BCR-XL   \\\\\n",
       "\t module load miniconda; source activate r\\_env; cd /home/bz234/github/CyTOF\\_classification/; Rscript --vanilla ./BCR\\_RealApplication/subsetting\\_metrics.R patient7\\_Reference\\\\\n",
       "\t module load miniconda; source activate r\\_env; cd /home/bz234/github/CyTOF\\_classification/; Rscript --vanilla ./BCR\\_RealApplication/subsetting\\_metrics.R patient8\\_BCR-XL   \\\\\n",
       "\t module load miniconda; source activate r\\_env; cd /home/bz234/github/CyTOF\\_classification/; Rscript --vanilla ./BCR\\_RealApplication/subsetting\\_metrics.R patient8\\_Reference\\\\\n",
       "\\end{tabular}\n"
      ],
      "text/markdown": [
       "\n",
       "A matrix: 16 × 1 of type chr\n",
       "\n",
       "| module load miniconda; source activate r_env; cd /home/bz234/github/CyTOF_classification/; Rscript --vanilla ./BCR_RealApplication/subsetting_metrics.R patient1_BCR-XL    |\n",
       "| module load miniconda; source activate r_env; cd /home/bz234/github/CyTOF_classification/; Rscript --vanilla ./BCR_RealApplication/subsetting_metrics.R patient1_Reference |\n",
       "| module load miniconda; source activate r_env; cd /home/bz234/github/CyTOF_classification/; Rscript --vanilla ./BCR_RealApplication/subsetting_metrics.R patient2_BCR-XL    |\n",
       "| module load miniconda; source activate r_env; cd /home/bz234/github/CyTOF_classification/; Rscript --vanilla ./BCR_RealApplication/subsetting_metrics.R patient2_Reference |\n",
       "| module load miniconda; source activate r_env; cd /home/bz234/github/CyTOF_classification/; Rscript --vanilla ./BCR_RealApplication/subsetting_metrics.R patient3_BCR-XL    |\n",
       "| module load miniconda; source activate r_env; cd /home/bz234/github/CyTOF_classification/; Rscript --vanilla ./BCR_RealApplication/subsetting_metrics.R patient3_Reference |\n",
       "| module load miniconda; source activate r_env; cd /home/bz234/github/CyTOF_classification/; Rscript --vanilla ./BCR_RealApplication/subsetting_metrics.R patient4_BCR-XL    |\n",
       "| module load miniconda; source activate r_env; cd /home/bz234/github/CyTOF_classification/; Rscript --vanilla ./BCR_RealApplication/subsetting_metrics.R patient4_Reference |\n",
       "| module load miniconda; source activate r_env; cd /home/bz234/github/CyTOF_classification/; Rscript --vanilla ./BCR_RealApplication/subsetting_metrics.R patient5_BCR-XL    |\n",
       "| module load miniconda; source activate r_env; cd /home/bz234/github/CyTOF_classification/; Rscript --vanilla ./BCR_RealApplication/subsetting_metrics.R patient5_Reference |\n",
       "| module load miniconda; source activate r_env; cd /home/bz234/github/CyTOF_classification/; Rscript --vanilla ./BCR_RealApplication/subsetting_metrics.R patient6_BCR-XL    |\n",
       "| module load miniconda; source activate r_env; cd /home/bz234/github/CyTOF_classification/; Rscript --vanilla ./BCR_RealApplication/subsetting_metrics.R patient6_Reference |\n",
       "| module load miniconda; source activate r_env; cd /home/bz234/github/CyTOF_classification/; Rscript --vanilla ./BCR_RealApplication/subsetting_metrics.R patient7_BCR-XL    |\n",
       "| module load miniconda; source activate r_env; cd /home/bz234/github/CyTOF_classification/; Rscript --vanilla ./BCR_RealApplication/subsetting_metrics.R patient7_Reference |\n",
       "| module load miniconda; source activate r_env; cd /home/bz234/github/CyTOF_classification/; Rscript --vanilla ./BCR_RealApplication/subsetting_metrics.R patient8_BCR-XL    |\n",
       "| module load miniconda; source activate r_env; cd /home/bz234/github/CyTOF_classification/; Rscript --vanilla ./BCR_RealApplication/subsetting_metrics.R patient8_Reference |\n",
       "\n"
      ],
      "text/plain": [
       "      [,1]                                                                                                                                                                      \n",
       " [1,] module load miniconda; source activate r_env; cd /home/bz234/github/CyTOF_classification/; Rscript --vanilla ./BCR_RealApplication/subsetting_metrics.R patient1_BCR-XL   \n",
       " [2,] module load miniconda; source activate r_env; cd /home/bz234/github/CyTOF_classification/; Rscript --vanilla ./BCR_RealApplication/subsetting_metrics.R patient1_Reference\n",
       " [3,] module load miniconda; source activate r_env; cd /home/bz234/github/CyTOF_classification/; Rscript --vanilla ./BCR_RealApplication/subsetting_metrics.R patient2_BCR-XL   \n",
       " [4,] module load miniconda; source activate r_env; cd /home/bz234/github/CyTOF_classification/; Rscript --vanilla ./BCR_RealApplication/subsetting_metrics.R patient2_Reference\n",
       " [5,] module load miniconda; source activate r_env; cd /home/bz234/github/CyTOF_classification/; Rscript --vanilla ./BCR_RealApplication/subsetting_metrics.R patient3_BCR-XL   \n",
       " [6,] module load miniconda; source activate r_env; cd /home/bz234/github/CyTOF_classification/; Rscript --vanilla ./BCR_RealApplication/subsetting_metrics.R patient3_Reference\n",
       " [7,] module load miniconda; source activate r_env; cd /home/bz234/github/CyTOF_classification/; Rscript --vanilla ./BCR_RealApplication/subsetting_metrics.R patient4_BCR-XL   \n",
       " [8,] module load miniconda; source activate r_env; cd /home/bz234/github/CyTOF_classification/; Rscript --vanilla ./BCR_RealApplication/subsetting_metrics.R patient4_Reference\n",
       " [9,] module load miniconda; source activate r_env; cd /home/bz234/github/CyTOF_classification/; Rscript --vanilla ./BCR_RealApplication/subsetting_metrics.R patient5_BCR-XL   \n",
       "[10,] module load miniconda; source activate r_env; cd /home/bz234/github/CyTOF_classification/; Rscript --vanilla ./BCR_RealApplication/subsetting_metrics.R patient5_Reference\n",
       "[11,] module load miniconda; source activate r_env; cd /home/bz234/github/CyTOF_classification/; Rscript --vanilla ./BCR_RealApplication/subsetting_metrics.R patient6_BCR-XL   \n",
       "[12,] module load miniconda; source activate r_env; cd /home/bz234/github/CyTOF_classification/; Rscript --vanilla ./BCR_RealApplication/subsetting_metrics.R patient6_Reference\n",
       "[13,] module load miniconda; source activate r_env; cd /home/bz234/github/CyTOF_classification/; Rscript --vanilla ./BCR_RealApplication/subsetting_metrics.R patient7_BCR-XL   \n",
       "[14,] module load miniconda; source activate r_env; cd /home/bz234/github/CyTOF_classification/; Rscript --vanilla ./BCR_RealApplication/subsetting_metrics.R patient7_Reference\n",
       "[15,] module load miniconda; source activate r_env; cd /home/bz234/github/CyTOF_classification/; Rscript --vanilla ./BCR_RealApplication/subsetting_metrics.R patient8_BCR-XL   \n",
       "[16,] module load miniconda; source activate r_env; cd /home/bz234/github/CyTOF_classification/; Rscript --vanilla ./BCR_RealApplication/subsetting_metrics.R patient8_Reference"
      ]
     },
     "metadata": {},
     "output_type": "display_data"
    }
   ],
   "source": [
    "writefunc"
   ]
  },
  {
   "cell_type": "code",
   "execution_count": null,
   "metadata": {},
   "outputs": [],
   "source": []
  }
 ],
 "metadata": {
  "kernelspec": {
   "display_name": "R",
   "language": "R",
   "name": "ir"
  },
  "language_info": {
   "codemirror_mode": "r",
   "file_extension": ".r",
   "mimetype": "text/x-r-source",
   "name": "R",
   "pygments_lexer": "r",
   "version": "3.6.3"
  }
 },
 "nbformat": 4,
 "nbformat_minor": 4
}
