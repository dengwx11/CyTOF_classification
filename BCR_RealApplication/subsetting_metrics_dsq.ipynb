{
 "cells": [
  {
   "cell_type": "code",
   "execution_count": 6,
   "metadata": {},
   "outputs": [],
   "source": [
    "patients <- paste0('patient', 1:8)\n",
    "conditions <- c('BCR-XL', 'Reference')\n",
    "writefunc <- c()\n",
    "for(patient in patients) {\n",
    "    for(condition in conditions) {\n",
    "        writefunc <- rbind(writefunc, paste('module load miniconda; source activate r_env; cd /home/bz234/github/CyTOF_classification/; Rscript --vanilla ./BCR_RealApplication/subsetting_metrics.R', paste(patient, condition, sep = '_')))\n",
    "    } \n",
    "}\n",
    "write.table(writefunc, file ='/home/bz234/Scripts/bash/CyTOF/dsq/subsetting_metrics.txt', row.names = FALSE, col.names = FALSE, quote=FALSE)"
   ]
  },
  {
   "cell_type": "code",
   "execution_count": 2,
   "metadata": {},
   "outputs": [
    {
     "data": {
      "text/html": [
       "<table class=\"dataframe\">\n",
       "<caption>A matrix: 2 × 1 of type chr</caption>\n",
       "<tbody>\n",
       "\t<tr><td>module load miniconda; source activate r_env; cd /home/bz234/github/CyTOF_classification/; Rscript --vanilla ./BCR_RealApplication/subsetting_metrics.R patient8_BCR-XL   </td></tr>\n",
       "\t<tr><td>module load miniconda; source activate r_env; cd /home/bz234/github/CyTOF_classification/; Rscript --vanilla ./BCR_RealApplication/subsetting_metrics.R patient8_Reference</td></tr>\n",
       "</tbody>\n",
       "</table>\n"
      ],
      "text/latex": [
       "A matrix: 2 × 1 of type chr\n",
       "\\begin{tabular}{l}\n",
       "\t module load miniconda; source activate r\\_env; cd /home/bz234/github/CyTOF\\_classification/; Rscript --vanilla ./BCR\\_RealApplication/subsetting\\_metrics.R patient8\\_BCR-XL   \\\\\n",
       "\t module load miniconda; source activate r\\_env; cd /home/bz234/github/CyTOF\\_classification/; Rscript --vanilla ./BCR\\_RealApplication/subsetting\\_metrics.R patient8\\_Reference\\\\\n",
       "\\end{tabular}\n"
      ],
      "text/markdown": [
       "\n",
       "A matrix: 2 × 1 of type chr\n",
       "\n",
       "| module load miniconda; source activate r_env; cd /home/bz234/github/CyTOF_classification/; Rscript --vanilla ./BCR_RealApplication/subsetting_metrics.R patient8_BCR-XL    |\n",
       "| module load miniconda; source activate r_env; cd /home/bz234/github/CyTOF_classification/; Rscript --vanilla ./BCR_RealApplication/subsetting_metrics.R patient8_Reference |\n",
       "\n"
      ],
      "text/plain": [
       "     [,1]                                                                                                                                                                      \n",
       "[1,] module load miniconda; source activate r_env; cd /home/bz234/github/CyTOF_classification/; Rscript --vanilla ./BCR_RealApplication/subsetting_metrics.R patient8_BCR-XL   \n",
       "[2,] module load miniconda; source activate r_env; cd /home/bz234/github/CyTOF_classification/; Rscript --vanilla ./BCR_RealApplication/subsetting_metrics.R patient8_Reference"
      ]
     },
     "metadata": {},
     "output_type": "display_data"
    }
   ],
   "source": [
    "writefunc"
   ]
  },
  {
   "cell_type": "code",
   "execution_count": null,
   "metadata": {},
   "outputs": [],
   "source": []
  }
 ],
 "metadata": {
  "kernelspec": {
   "display_name": "R",
   "language": "R",
   "name": "ir"
  },
  "language_info": {
   "codemirror_mode": "r",
   "file_extension": ".r",
   "mimetype": "text/x-r-source",
   "name": "R",
   "pygments_lexer": "r",
   "version": "3.6.3"
  }
 },
 "nbformat": 4,
 "nbformat_minor": 4
}
