{
 "cells": [
  {
   "cell_type": "code",
   "execution_count": 8,
   "metadata": {},
   "outputs": [
    {
     "name": "stderr",
     "output_type": "stream",
     "text": [
      "Loading required package: SnowballC\n",
      "\n",
      "\n",
      "Attaching package: ‘aricode’\n",
      "\n",
      "\n",
      "The following object is masked from ‘package:lsa’:\n",
      "\n",
      "    entropy\n",
      "\n",
      "\n",
      "Loading required package: viridisLite\n",
      "\n",
      "Package 'mclust' version 5.4.7\n",
      "Type 'citation(\"mclust\")' for citing this R package in publications.\n",
      "\n"
     ]
    }
   ],
   "source": [
    "library(Seurat)\n",
    "library(ggplot2)\n",
    "library(mltools)\n",
    "library(data.table)\n",
    "library(lsa)\n",
    "library(aricode)\n",
    "library(kBET)\n",
    "library(cowplot)\n",
    "options(repr.plot.width=14, repr.plot.height=10)\n",
    "library(viridis)\n",
    "library(mclust)"
   ]
  },
  {
   "cell_type": "code",
   "execution_count": 2,
   "metadata": {},
   "outputs": [],
   "source": [
    "seur <- readRDS('/gpfs/ysm/pi/zhao-data/wd262/new_cytof/write/BCR/5celltype/seur_patient1_BCR-XL.rds')\n",
    "rst <- readRDS('/gpfs/ysm/pi/zhao-data/wd262/new_cytof/write/BCR/5celltype/rst_patient1_BCR-XL.rds')\n",
    "truth <- seur$label"
   ]
  },
  {
   "cell_type": "code",
   "execution_count": 3,
   "metadata": {},
   "outputs": [],
   "source": [
    "celltype_pred <- seur$pred\n",
    "H_est_subsetting <- data.frame(rst$H[,-1])\n",
    "H_est_subsetting <- apply(H_est_subsetting,2,function(x) x/sum(x))"
   ]
  },
  {
   "cell_type": "code",
   "execution_count": 4,
   "metadata": {},
   "outputs": [
    {
     "data": {
      "text/html": [
       "<table>\n",
       "<caption>A matrix: 5 × 2751 of type dbl</caption>\n",
       "<thead>\n",
       "\t<tr><th scope=col>X1</th><th scope=col>X2</th><th scope=col>X3</th><th scope=col>X4</th><th scope=col>X5</th><th scope=col>X6</th><th scope=col>X7</th><th scope=col>X8</th><th scope=col>X9</th><th scope=col>X10</th><th scope=col>⋯</th><th scope=col>X2742</th><th scope=col>X2743</th><th scope=col>X2744</th><th scope=col>X2745</th><th scope=col>X2746</th><th scope=col>X2747</th><th scope=col>X2748</th><th scope=col>X2749</th><th scope=col>X2750</th><th scope=col>X2751</th></tr>\n",
       "</thead>\n",
       "<tbody>\n",
       "\t<tr><td>1.369773e-20</td><td>8.838661e-44</td><td>1.509824e-01</td><td>7.577876e-02</td><td>4.448538e-02</td><td>3.776206e-01</td><td>1.453928e-20</td><td>2.025539e-20</td><td>5.657829e-01</td><td>1.731321e-01</td><td>⋯</td><td>2.086555e-10</td><td>0.1355811183</td><td>1.660717e-08</td><td>0.0003816343</td><td>2.527837e-14</td><td>1.618384e-13</td><td>7.845042e-10</td><td>1.735769e-21</td><td>4.499247e-23</td><td>1.083760e-01</td></tr>\n",
       "\t<tr><td>9.996456e-01</td><td>9.999999e-01</td><td>6.570936e-06</td><td>6.245497e-01</td><td>1.368873e-07</td><td>3.663868e-07</td><td>1.338265e-01</td><td>8.364615e-07</td><td>3.701299e-06</td><td>9.982636e-07</td><td>⋯</td><td>3.855504e-03</td><td>0.0006525962</td><td>3.873510e-04</td><td>0.0005537549</td><td>7.204084e-03</td><td>1.564082e-01</td><td>5.070751e-01</td><td>9.379093e-01</td><td>8.626875e-01</td><td>7.039129e-05</td></tr>\n",
       "\t<tr><td>3.544442e-04</td><td>5.341121e-08</td><td>4.789615e-02</td><td>2.614589e-01</td><td>4.468719e-01</td><td>6.223790e-01</td><td>7.946710e-01</td><td>1.848684e-01</td><td>3.510674e-01</td><td>4.939104e-01</td><td>⋯</td><td>7.533872e-01</td><td>0.3772920819</td><td>6.136970e-01</td><td>0.9155889000</td><td>4.401680e-01</td><td>3.270337e-01</td><td>2.380659e-24</td><td>1.747884e-05</td><td>1.021040e-01</td><td>1.182769e-01</td></tr>\n",
       "\t<tr><td>2.044086e-20</td><td>9.496626e-42</td><td>3.698003e-02</td><td>3.821259e-02</td><td>7.147210e-04</td><td>4.486101e-10</td><td>3.414172e-21</td><td>2.475241e-30</td><td>7.847832e-19</td><td>3.329565e-01</td><td>⋯</td><td>1.694837e-08</td><td>0.1633922404</td><td>7.909351e-09</td><td>0.0020237713</td><td>2.573060e-08</td><td>9.526172e-02</td><td>3.828379e-01</td><td>5.890065e-18</td><td>2.218875e-28</td><td>5.889483e-02</td></tr>\n",
       "\t<tr><td>2.250318e-15</td><td>4.646858e-09</td><td>7.641348e-01</td><td>6.461229e-27</td><td>5.079279e-01</td><td>1.560718e-09</td><td>7.150256e-02</td><td>8.151307e-01</td><td>8.314598e-02</td><td>1.103057e-19</td><td>⋯</td><td>2.427573e-01</td><td>0.3230819632</td><td>3.859156e-01</td><td>0.0814519395</td><td>5.526279e-01</td><td>4.212963e-01</td><td>1.100870e-01</td><td>6.207319e-02</td><td>3.520853e-02</td><td>7.143819e-01</td></tr>\n",
       "</tbody>\n",
       "</table>\n"
      ],
      "text/latex": [
       "A matrix: 5 × 2751 of type dbl\n",
       "\\begin{tabular}{lllllllllllllllllllll}\n",
       " X1 & X2 & X3 & X4 & X5 & X6 & X7 & X8 & X9 & X10 & ⋯ & X2742 & X2743 & X2744 & X2745 & X2746 & X2747 & X2748 & X2749 & X2750 & X2751\\\\\n",
       "\\hline\n",
       "\t 1.369773e-20 & 8.838661e-44 & 1.509824e-01 & 7.577876e-02 & 4.448538e-02 & 3.776206e-01 & 1.453928e-20 & 2.025539e-20 & 5.657829e-01 & 1.731321e-01 & ⋯ & 2.086555e-10 & 0.1355811183 & 1.660717e-08 & 0.0003816343 & 2.527837e-14 & 1.618384e-13 & 7.845042e-10 & 1.735769e-21 & 4.499247e-23 & 1.083760e-01\\\\\n",
       "\t 9.996456e-01 & 9.999999e-01 & 6.570936e-06 & 6.245497e-01 & 1.368873e-07 & 3.663868e-07 & 1.338265e-01 & 8.364615e-07 & 3.701299e-06 & 9.982636e-07 & ⋯ & 3.855504e-03 & 0.0006525962 & 3.873510e-04 & 0.0005537549 & 7.204084e-03 & 1.564082e-01 & 5.070751e-01 & 9.379093e-01 & 8.626875e-01 & 7.039129e-05\\\\\n",
       "\t 3.544442e-04 & 5.341121e-08 & 4.789615e-02 & 2.614589e-01 & 4.468719e-01 & 6.223790e-01 & 7.946710e-01 & 1.848684e-01 & 3.510674e-01 & 4.939104e-01 & ⋯ & 7.533872e-01 & 0.3772920819 & 6.136970e-01 & 0.9155889000 & 4.401680e-01 & 3.270337e-01 & 2.380659e-24 & 1.747884e-05 & 1.021040e-01 & 1.182769e-01\\\\\n",
       "\t 2.044086e-20 & 9.496626e-42 & 3.698003e-02 & 3.821259e-02 & 7.147210e-04 & 4.486101e-10 & 3.414172e-21 & 2.475241e-30 & 7.847832e-19 & 3.329565e-01 & ⋯ & 1.694837e-08 & 0.1633922404 & 7.909351e-09 & 0.0020237713 & 2.573060e-08 & 9.526172e-02 & 3.828379e-01 & 5.890065e-18 & 2.218875e-28 & 5.889483e-02\\\\\n",
       "\t 2.250318e-15 & 4.646858e-09 & 7.641348e-01 & 6.461229e-27 & 5.079279e-01 & 1.560718e-09 & 7.150256e-02 & 8.151307e-01 & 8.314598e-02 & 1.103057e-19 & ⋯ & 2.427573e-01 & 0.3230819632 & 3.859156e-01 & 0.0814519395 & 5.526279e-01 & 4.212963e-01 & 1.100870e-01 & 6.207319e-02 & 3.520853e-02 & 7.143819e-01\\\\\n",
       "\\end{tabular}\n"
      ],
      "text/markdown": [
       "\n",
       "A matrix: 5 × 2751 of type dbl\n",
       "\n",
       "| X1 | X2 | X3 | X4 | X5 | X6 | X7 | X8 | X9 | X10 | ⋯ | X2742 | X2743 | X2744 | X2745 | X2746 | X2747 | X2748 | X2749 | X2750 | X2751 |\n",
       "|---|---|---|---|---|---|---|---|---|---|---|---|---|---|---|---|---|---|---|---|---|\n",
       "| 1.369773e-20 | 8.838661e-44 | 1.509824e-01 | 7.577876e-02 | 4.448538e-02 | 3.776206e-01 | 1.453928e-20 | 2.025539e-20 | 5.657829e-01 | 1.731321e-01 | ⋯ | 2.086555e-10 | 0.1355811183 | 1.660717e-08 | 0.0003816343 | 2.527837e-14 | 1.618384e-13 | 7.845042e-10 | 1.735769e-21 | 4.499247e-23 | 1.083760e-01 |\n",
       "| 9.996456e-01 | 9.999999e-01 | 6.570936e-06 | 6.245497e-01 | 1.368873e-07 | 3.663868e-07 | 1.338265e-01 | 8.364615e-07 | 3.701299e-06 | 9.982636e-07 | ⋯ | 3.855504e-03 | 0.0006525962 | 3.873510e-04 | 0.0005537549 | 7.204084e-03 | 1.564082e-01 | 5.070751e-01 | 9.379093e-01 | 8.626875e-01 | 7.039129e-05 |\n",
       "| 3.544442e-04 | 5.341121e-08 | 4.789615e-02 | 2.614589e-01 | 4.468719e-01 | 6.223790e-01 | 7.946710e-01 | 1.848684e-01 | 3.510674e-01 | 4.939104e-01 | ⋯ | 7.533872e-01 | 0.3772920819 | 6.136970e-01 | 0.9155889000 | 4.401680e-01 | 3.270337e-01 | 2.380659e-24 | 1.747884e-05 | 1.021040e-01 | 1.182769e-01 |\n",
       "| 2.044086e-20 | 9.496626e-42 | 3.698003e-02 | 3.821259e-02 | 7.147210e-04 | 4.486101e-10 | 3.414172e-21 | 2.475241e-30 | 7.847832e-19 | 3.329565e-01 | ⋯ | 1.694837e-08 | 0.1633922404 | 7.909351e-09 | 0.0020237713 | 2.573060e-08 | 9.526172e-02 | 3.828379e-01 | 5.890065e-18 | 2.218875e-28 | 5.889483e-02 |\n",
       "| 2.250318e-15 | 4.646858e-09 | 7.641348e-01 | 6.461229e-27 | 5.079279e-01 | 1.560718e-09 | 7.150256e-02 | 8.151307e-01 | 8.314598e-02 | 1.103057e-19 | ⋯ | 2.427573e-01 | 0.3230819632 | 3.859156e-01 | 0.0814519395 | 5.526279e-01 | 4.212963e-01 | 1.100870e-01 | 6.207319e-02 | 3.520853e-02 | 7.143819e-01 |\n",
       "\n"
      ],
      "text/plain": [
       "     X1           X2           X3           X4           X5          \n",
       "[1,] 1.369773e-20 8.838661e-44 1.509824e-01 7.577876e-02 4.448538e-02\n",
       "[2,] 9.996456e-01 9.999999e-01 6.570936e-06 6.245497e-01 1.368873e-07\n",
       "[3,] 3.544442e-04 5.341121e-08 4.789615e-02 2.614589e-01 4.468719e-01\n",
       "[4,] 2.044086e-20 9.496626e-42 3.698003e-02 3.821259e-02 7.147210e-04\n",
       "[5,] 2.250318e-15 4.646858e-09 7.641348e-01 6.461229e-27 5.079279e-01\n",
       "     X6           X7           X8           X9           X10          ⋯\n",
       "[1,] 3.776206e-01 1.453928e-20 2.025539e-20 5.657829e-01 1.731321e-01 ⋯\n",
       "[2,] 3.663868e-07 1.338265e-01 8.364615e-07 3.701299e-06 9.982636e-07 ⋯\n",
       "[3,] 6.223790e-01 7.946710e-01 1.848684e-01 3.510674e-01 4.939104e-01 ⋯\n",
       "[4,] 4.486101e-10 3.414172e-21 2.475241e-30 7.847832e-19 3.329565e-01 ⋯\n",
       "[5,] 1.560718e-09 7.150256e-02 8.151307e-01 8.314598e-02 1.103057e-19 ⋯\n",
       "     X2742        X2743        X2744        X2745        X2746       \n",
       "[1,] 2.086555e-10 0.1355811183 1.660717e-08 0.0003816343 2.527837e-14\n",
       "[2,] 3.855504e-03 0.0006525962 3.873510e-04 0.0005537549 7.204084e-03\n",
       "[3,] 7.533872e-01 0.3772920819 6.136970e-01 0.9155889000 4.401680e-01\n",
       "[4,] 1.694837e-08 0.1633922404 7.909351e-09 0.0020237713 2.573060e-08\n",
       "[5,] 2.427573e-01 0.3230819632 3.859156e-01 0.0814519395 5.526279e-01\n",
       "     X2747        X2748        X2749        X2750        X2751       \n",
       "[1,] 1.618384e-13 7.845042e-10 1.735769e-21 4.499247e-23 1.083760e-01\n",
       "[2,] 1.564082e-01 5.070751e-01 9.379093e-01 8.626875e-01 7.039129e-05\n",
       "[3,] 3.270337e-01 2.380659e-24 1.747884e-05 1.021040e-01 1.182769e-01\n",
       "[4,] 9.526172e-02 3.828379e-01 5.890065e-18 2.218875e-28 5.889483e-02\n",
       "[5,] 4.212963e-01 1.100870e-01 6.207319e-02 3.520853e-02 7.143819e-01"
      ]
     },
     "metadata": {},
     "output_type": "display_data"
    }
   ],
   "source": [
    "H_est_subsetting"
   ]
  },
  {
   "cell_type": "code",
   "execution_count": 5,
   "metadata": {},
   "outputs": [
    {
     "data": {
      "text/html": [
       "<table>\n",
       "<caption>A data.frame: 5 × 2752</caption>\n",
       "<thead>\n",
       "\t<tr><th scope=col>matrix(colnames(A0), ncol = 1)</th><th scope=col>X1</th><th scope=col>X2</th><th scope=col>X3</th><th scope=col>X4</th><th scope=col>X5</th><th scope=col>X6</th><th scope=col>X7</th><th scope=col>X8</th><th scope=col>X9</th><th scope=col>⋯</th><th scope=col>X2742</th><th scope=col>X2743</th><th scope=col>X2744</th><th scope=col>X2745</th><th scope=col>X2746</th><th scope=col>X2747</th><th scope=col>X2748</th><th scope=col>X2749</th><th scope=col>X2750</th><th scope=col>X2751</th></tr>\n",
       "\t<tr><th scope=col>&lt;chr&gt;</th><th scope=col>&lt;dbl&gt;</th><th scope=col>&lt;dbl&gt;</th><th scope=col>&lt;dbl&gt;</th><th scope=col>&lt;dbl&gt;</th><th scope=col>&lt;dbl&gt;</th><th scope=col>&lt;dbl&gt;</th><th scope=col>&lt;dbl&gt;</th><th scope=col>&lt;dbl&gt;</th><th scope=col>&lt;dbl&gt;</th><th scope=col>⋯</th><th scope=col>&lt;dbl&gt;</th><th scope=col>&lt;dbl&gt;</th><th scope=col>&lt;dbl&gt;</th><th scope=col>&lt;dbl&gt;</th><th scope=col>&lt;dbl&gt;</th><th scope=col>&lt;dbl&gt;</th><th scope=col>&lt;dbl&gt;</th><th scope=col>&lt;dbl&gt;</th><th scope=col>&lt;dbl&gt;</th><th scope=col>&lt;dbl&gt;</th></tr>\n",
       "</thead>\n",
       "<tbody>\n",
       "\t<tr><td>naïve B cells</td><td>1.401965e-20</td><td>9.394162e-44</td><td>1.546003e-01</td><td>7.878238e-02</td><td>4.492856e-02</td><td>3.845289e-01</td><td>1.481032e-20</td><td>2.130327e-20</td><td>5.887215e-01</td><td>⋯</td><td>2.107812e-10</td><td>0.1351595318</td><td>1.678019e-08</td><td>0.0003822888</td><td>2.529056e-14</td><td>1.645890e-13</td><td>7.780065e-10</td><td>1.795140e-21</td><td>4.690928e-23</td><td>1.098089e-01</td></tr>\n",
       "\t<tr><td>CD4 T-cells  </td><td>1.023139e+00</td><td>1.062849e+00</td><td>6.728391e-06</td><td>6.493048e-01</td><td>1.382510e-07</td><td>3.730896e-07</td><td>1.363212e-01</td><td>8.797347e-07</td><td>3.851361e-06</td><td>⋯</td><td>3.894783e-03</td><td>0.0006505669</td><td>3.913865e-04</td><td>0.0005547047</td><td>7.207559e-03</td><td>1.590665e-01</td><td>5.028752e-01</td><td>9.699897e-01</td><td>8.994405e-01</td><td>7.132196e-05</td></tr>\n",
       "\t<tr><td>CD8 T-cells  </td><td>3.627743e-04</td><td>5.676805e-08</td><td>4.904385e-02</td><td>2.718223e-01</td><td>4.513237e-01</td><td>6.337650e-01</td><td>8.094852e-01</td><td>1.944323e-01</td><td>3.653007e-01</td><td>⋯</td><td>7.610626e-01</td><td>0.3761189004</td><td>6.200906e-01</td><td>0.9171592743</td><td>4.403804e-01</td><td>3.325920e-01</td><td>2.360941e-24</td><td>1.807669e-05</td><td>1.064539e-01</td><td>1.198407e-01</td></tr>\n",
       "\t<tr><td>monocytes    </td><td>2.092126e-20</td><td>1.009348e-41</td><td>3.786616e-02</td><td>3.972721e-02</td><td>7.218413e-04</td><td>4.568171e-10</td><td>3.477819e-21</td><td>2.603294e-30</td><td>8.166007e-19</td><td>⋯</td><td>1.712103e-08</td><td>0.1628841758</td><td>7.991752e-09</td><td>0.0020272424</td><td>2.574302e-08</td><td>9.688078e-02</td><td>3.796670e-01</td><td>6.091530e-18</td><td>2.313405e-28</td><td>5.967350e-02</td></tr>\n",
       "\t<tr><td>NK cells     </td><td>2.303204e-15</td><td>4.938908e-09</td><td>7.824453e-01</td><td>6.717331e-27</td><td>5.129880e-01</td><td>1.589270e-09</td><td>7.283551e-02</td><td>8.573003e-01</td><td>8.651698e-02</td><td>⋯</td><td>2.452305e-01</td><td>0.3220773469</td><td>3.899361e-01</td><td>0.0815916420</td><td>5.528945e-01</td><td>4.284566e-01</td><td>1.091752e-01</td><td>6.419635e-02</td><td>3.670852e-02</td><td>7.238270e-01</td></tr>\n",
       "</tbody>\n",
       "</table>\n"
      ],
      "text/latex": [
       "A data.frame: 5 × 2752\n",
       "\\begin{tabular}{lllllllllllllllllllll}\n",
       " matrix(colnames(A0), ncol = 1) & X1 & X2 & X3 & X4 & X5 & X6 & X7 & X8 & X9 & ⋯ & X2742 & X2743 & X2744 & X2745 & X2746 & X2747 & X2748 & X2749 & X2750 & X2751\\\\\n",
       " <chr> & <dbl> & <dbl> & <dbl> & <dbl> & <dbl> & <dbl> & <dbl> & <dbl> & <dbl> & ⋯ & <dbl> & <dbl> & <dbl> & <dbl> & <dbl> & <dbl> & <dbl> & <dbl> & <dbl> & <dbl>\\\\\n",
       "\\hline\n",
       "\t naïve B cells & 1.401965e-20 & 9.394162e-44 & 1.546003e-01 & 7.878238e-02 & 4.492856e-02 & 3.845289e-01 & 1.481032e-20 & 2.130327e-20 & 5.887215e-01 & ⋯ & 2.107812e-10 & 0.1351595318 & 1.678019e-08 & 0.0003822888 & 2.529056e-14 & 1.645890e-13 & 7.780065e-10 & 1.795140e-21 & 4.690928e-23 & 1.098089e-01\\\\\n",
       "\t CD4 T-cells   & 1.023139e+00 & 1.062849e+00 & 6.728391e-06 & 6.493048e-01 & 1.382510e-07 & 3.730896e-07 & 1.363212e-01 & 8.797347e-07 & 3.851361e-06 & ⋯ & 3.894783e-03 & 0.0006505669 & 3.913865e-04 & 0.0005547047 & 7.207559e-03 & 1.590665e-01 & 5.028752e-01 & 9.699897e-01 & 8.994405e-01 & 7.132196e-05\\\\\n",
       "\t CD8 T-cells   & 3.627743e-04 & 5.676805e-08 & 4.904385e-02 & 2.718223e-01 & 4.513237e-01 & 6.337650e-01 & 8.094852e-01 & 1.944323e-01 & 3.653007e-01 & ⋯ & 7.610626e-01 & 0.3761189004 & 6.200906e-01 & 0.9171592743 & 4.403804e-01 & 3.325920e-01 & 2.360941e-24 & 1.807669e-05 & 1.064539e-01 & 1.198407e-01\\\\\n",
       "\t monocytes     & 2.092126e-20 & 1.009348e-41 & 3.786616e-02 & 3.972721e-02 & 7.218413e-04 & 4.568171e-10 & 3.477819e-21 & 2.603294e-30 & 8.166007e-19 & ⋯ & 1.712103e-08 & 0.1628841758 & 7.991752e-09 & 0.0020272424 & 2.574302e-08 & 9.688078e-02 & 3.796670e-01 & 6.091530e-18 & 2.313405e-28 & 5.967350e-02\\\\\n",
       "\t NK cells      & 2.303204e-15 & 4.938908e-09 & 7.824453e-01 & 6.717331e-27 & 5.129880e-01 & 1.589270e-09 & 7.283551e-02 & 8.573003e-01 & 8.651698e-02 & ⋯ & 2.452305e-01 & 0.3220773469 & 3.899361e-01 & 0.0815916420 & 5.528945e-01 & 4.284566e-01 & 1.091752e-01 & 6.419635e-02 & 3.670852e-02 & 7.238270e-01\\\\\n",
       "\\end{tabular}\n"
      ],
      "text/markdown": [
       "\n",
       "A data.frame: 5 × 2752\n",
       "\n",
       "| matrix(colnames(A0), ncol = 1) &lt;chr&gt; | X1 &lt;dbl&gt; | X2 &lt;dbl&gt; | X3 &lt;dbl&gt; | X4 &lt;dbl&gt; | X5 &lt;dbl&gt; | X6 &lt;dbl&gt; | X7 &lt;dbl&gt; | X8 &lt;dbl&gt; | X9 &lt;dbl&gt; | ⋯ ⋯ | X2742 &lt;dbl&gt; | X2743 &lt;dbl&gt; | X2744 &lt;dbl&gt; | X2745 &lt;dbl&gt; | X2746 &lt;dbl&gt; | X2747 &lt;dbl&gt; | X2748 &lt;dbl&gt; | X2749 &lt;dbl&gt; | X2750 &lt;dbl&gt; | X2751 &lt;dbl&gt; |\n",
       "|---|---|---|---|---|---|---|---|---|---|---|---|---|---|---|---|---|---|---|---|---|\n",
       "| naïve B cells | 1.401965e-20 | 9.394162e-44 | 1.546003e-01 | 7.878238e-02 | 4.492856e-02 | 3.845289e-01 | 1.481032e-20 | 2.130327e-20 | 5.887215e-01 | ⋯ | 2.107812e-10 | 0.1351595318 | 1.678019e-08 | 0.0003822888 | 2.529056e-14 | 1.645890e-13 | 7.780065e-10 | 1.795140e-21 | 4.690928e-23 | 1.098089e-01 |\n",
       "| CD4 T-cells   | 1.023139e+00 | 1.062849e+00 | 6.728391e-06 | 6.493048e-01 | 1.382510e-07 | 3.730896e-07 | 1.363212e-01 | 8.797347e-07 | 3.851361e-06 | ⋯ | 3.894783e-03 | 0.0006505669 | 3.913865e-04 | 0.0005547047 | 7.207559e-03 | 1.590665e-01 | 5.028752e-01 | 9.699897e-01 | 8.994405e-01 | 7.132196e-05 |\n",
       "| CD8 T-cells   | 3.627743e-04 | 5.676805e-08 | 4.904385e-02 | 2.718223e-01 | 4.513237e-01 | 6.337650e-01 | 8.094852e-01 | 1.944323e-01 | 3.653007e-01 | ⋯ | 7.610626e-01 | 0.3761189004 | 6.200906e-01 | 0.9171592743 | 4.403804e-01 | 3.325920e-01 | 2.360941e-24 | 1.807669e-05 | 1.064539e-01 | 1.198407e-01 |\n",
       "| monocytes     | 2.092126e-20 | 1.009348e-41 | 3.786616e-02 | 3.972721e-02 | 7.218413e-04 | 4.568171e-10 | 3.477819e-21 | 2.603294e-30 | 8.166007e-19 | ⋯ | 1.712103e-08 | 0.1628841758 | 7.991752e-09 | 0.0020272424 | 2.574302e-08 | 9.688078e-02 | 3.796670e-01 | 6.091530e-18 | 2.313405e-28 | 5.967350e-02 |\n",
       "| NK cells      | 2.303204e-15 | 4.938908e-09 | 7.824453e-01 | 6.717331e-27 | 5.129880e-01 | 1.589270e-09 | 7.283551e-02 | 8.573003e-01 | 8.651698e-02 | ⋯ | 2.452305e-01 | 0.3220773469 | 3.899361e-01 | 0.0815916420 | 5.528945e-01 | 4.284566e-01 | 1.091752e-01 | 6.419635e-02 | 3.670852e-02 | 7.238270e-01 |\n",
       "\n"
      ],
      "text/plain": [
       "  matrix(colnames(A0), ncol = 1) X1           X2           X3          \n",
       "1 naïve B cells                  1.401965e-20 9.394162e-44 1.546003e-01\n",
       "2 CD4 T-cells                    1.023139e+00 1.062849e+00 6.728391e-06\n",
       "3 CD8 T-cells                    3.627743e-04 5.676805e-08 4.904385e-02\n",
       "4 monocytes                      2.092126e-20 1.009348e-41 3.786616e-02\n",
       "5 NK cells                       2.303204e-15 4.938908e-09 7.824453e-01\n",
       "  X4           X5           X6           X7           X8           X9          \n",
       "1 7.878238e-02 4.492856e-02 3.845289e-01 1.481032e-20 2.130327e-20 5.887215e-01\n",
       "2 6.493048e-01 1.382510e-07 3.730896e-07 1.363212e-01 8.797347e-07 3.851361e-06\n",
       "3 2.718223e-01 4.513237e-01 6.337650e-01 8.094852e-01 1.944323e-01 3.653007e-01\n",
       "4 3.972721e-02 7.218413e-04 4.568171e-10 3.477819e-21 2.603294e-30 8.166007e-19\n",
       "5 6.717331e-27 5.129880e-01 1.589270e-09 7.283551e-02 8.573003e-01 8.651698e-02\n",
       "  ⋯ X2742        X2743        X2744        X2745        X2746       \n",
       "1 ⋯ 2.107812e-10 0.1351595318 1.678019e-08 0.0003822888 2.529056e-14\n",
       "2 ⋯ 3.894783e-03 0.0006505669 3.913865e-04 0.0005547047 7.207559e-03\n",
       "3 ⋯ 7.610626e-01 0.3761189004 6.200906e-01 0.9171592743 4.403804e-01\n",
       "4 ⋯ 1.712103e-08 0.1628841758 7.991752e-09 0.0020272424 2.574302e-08\n",
       "5 ⋯ 2.452305e-01 0.3220773469 3.899361e-01 0.0815916420 5.528945e-01\n",
       "  X2747        X2748        X2749        X2750        X2751       \n",
       "1 1.645890e-13 7.780065e-10 1.795140e-21 4.690928e-23 1.098089e-01\n",
       "2 1.590665e-01 5.028752e-01 9.699897e-01 8.994405e-01 7.132196e-05\n",
       "3 3.325920e-01 2.360941e-24 1.807669e-05 1.064539e-01 1.198407e-01\n",
       "4 9.688078e-02 3.796670e-01 6.091530e-18 2.313405e-28 5.967350e-02\n",
       "5 4.284566e-01 1.091752e-01 6.419635e-02 3.670852e-02 7.238270e-01"
      ]
     },
     "metadata": {},
     "output_type": "display_data"
    }
   ],
   "source": [
    "rst$H"
   ]
  },
  {
   "cell_type": "code",
   "execution_count": 9,
   "metadata": {},
   "outputs": [
    {
     "data": {
      "text/html": [
       "<table>\n",
       "<caption>A data.frame: 5 × 2751</caption>\n",
       "<thead>\n",
       "\t<tr><th></th><th scope=col>V1</th><th scope=col>V2</th><th scope=col>V3</th><th scope=col>V4</th><th scope=col>V5</th><th scope=col>V6</th><th scope=col>V7</th><th scope=col>V8</th><th scope=col>V9</th><th scope=col>V10</th><th scope=col>⋯</th><th scope=col>V2742</th><th scope=col>V2743</th><th scope=col>V2744</th><th scope=col>V2745</th><th scope=col>V2746</th><th scope=col>V2747</th><th scope=col>V2748</th><th scope=col>V2749</th><th scope=col>V2750</th><th scope=col>V2751</th></tr>\n",
       "\t<tr><th></th><th scope=col>&lt;int&gt;</th><th scope=col>&lt;int&gt;</th><th scope=col>&lt;int&gt;</th><th scope=col>&lt;int&gt;</th><th scope=col>&lt;int&gt;</th><th scope=col>&lt;int&gt;</th><th scope=col>&lt;int&gt;</th><th scope=col>&lt;int&gt;</th><th scope=col>&lt;int&gt;</th><th scope=col>&lt;int&gt;</th><th scope=col>⋯</th><th scope=col>&lt;int&gt;</th><th scope=col>&lt;int&gt;</th><th scope=col>&lt;int&gt;</th><th scope=col>&lt;int&gt;</th><th scope=col>&lt;int&gt;</th><th scope=col>&lt;int&gt;</th><th scope=col>&lt;int&gt;</th><th scope=col>&lt;int&gt;</th><th scope=col>&lt;int&gt;</th><th scope=col>&lt;int&gt;</th></tr>\n",
       "</thead>\n",
       "<tbody>\n",
       "\t<tr><th scope=row>truth_fact_sub_CD4 T-cells</th><td>1</td><td>1</td><td>0</td><td>1</td><td>0</td><td>0</td><td>0</td><td>0</td><td>0</td><td>0</td><td>⋯</td><td>0</td><td>0</td><td>0</td><td>0</td><td>0</td><td>0</td><td>1</td><td>1</td><td>1</td><td>0</td></tr>\n",
       "\t<tr><th scope=row>truth_fact_sub_CD8 T-cells</th><td>0</td><td>0</td><td>0</td><td>0</td><td>1</td><td>1</td><td>1</td><td>0</td><td>1</td><td>1</td><td>⋯</td><td>1</td><td>1</td><td>1</td><td>1</td><td>0</td><td>0</td><td>0</td><td>0</td><td>0</td><td>0</td></tr>\n",
       "\t<tr><th scope=row>truth_fact_sub_monocytes</th><td>0</td><td>0</td><td>0</td><td>0</td><td>0</td><td>0</td><td>0</td><td>0</td><td>0</td><td>0</td><td>⋯</td><td>0</td><td>0</td><td>0</td><td>0</td><td>0</td><td>0</td><td>0</td><td>0</td><td>0</td><td>0</td></tr>\n",
       "\t<tr><th scope=row>truth_fact_sub_naïve B cells</th><td>0</td><td>0</td><td>0</td><td>0</td><td>0</td><td>0</td><td>0</td><td>0</td><td>0</td><td>0</td><td>⋯</td><td>0</td><td>0</td><td>0</td><td>0</td><td>0</td><td>0</td><td>0</td><td>0</td><td>0</td><td>0</td></tr>\n",
       "\t<tr><th scope=row>truth_fact_sub_NK cells</th><td>0</td><td>0</td><td>1</td><td>0</td><td>0</td><td>0</td><td>0</td><td>1</td><td>0</td><td>0</td><td>⋯</td><td>0</td><td>0</td><td>0</td><td>0</td><td>1</td><td>1</td><td>0</td><td>0</td><td>0</td><td>1</td></tr>\n",
       "</tbody>\n",
       "</table>\n"
      ],
      "text/latex": [
       "A data.frame: 5 × 2751\n",
       "\\begin{tabular}{r|lllllllllllllllllllll}\n",
       "  & V1 & V2 & V3 & V4 & V5 & V6 & V7 & V8 & V9 & V10 & ⋯ & V2742 & V2743 & V2744 & V2745 & V2746 & V2747 & V2748 & V2749 & V2750 & V2751\\\\\n",
       "  & <int> & <int> & <int> & <int> & <int> & <int> & <int> & <int> & <int> & <int> & ⋯ & <int> & <int> & <int> & <int> & <int> & <int> & <int> & <int> & <int> & <int>\\\\\n",
       "\\hline\n",
       "\ttruth\\_fact\\_sub\\_CD4 T-cells & 1 & 1 & 0 & 1 & 0 & 0 & 0 & 0 & 0 & 0 & ⋯ & 0 & 0 & 0 & 0 & 0 & 0 & 1 & 1 & 1 & 0\\\\\n",
       "\ttruth\\_fact\\_sub\\_CD8 T-cells & 0 & 0 & 0 & 0 & 1 & 1 & 1 & 0 & 1 & 1 & ⋯ & 1 & 1 & 1 & 1 & 0 & 0 & 0 & 0 & 0 & 0\\\\\n",
       "\ttruth\\_fact\\_sub\\_monocytes & 0 & 0 & 0 & 0 & 0 & 0 & 0 & 0 & 0 & 0 & ⋯ & 0 & 0 & 0 & 0 & 0 & 0 & 0 & 0 & 0 & 0\\\\\n",
       "\ttruth\\_fact\\_sub\\_naïve B cells & 0 & 0 & 0 & 0 & 0 & 0 & 0 & 0 & 0 & 0 & ⋯ & 0 & 0 & 0 & 0 & 0 & 0 & 0 & 0 & 0 & 0\\\\\n",
       "\ttruth\\_fact\\_sub\\_NK cells & 0 & 0 & 1 & 0 & 0 & 0 & 0 & 1 & 0 & 0 & ⋯ & 0 & 0 & 0 & 0 & 1 & 1 & 0 & 0 & 0 & 1\\\\\n",
       "\\end{tabular}\n"
      ],
      "text/markdown": [
       "\n",
       "A data.frame: 5 × 2751\n",
       "\n",
       "| <!--/--> | V1 &lt;int&gt; | V2 &lt;int&gt; | V3 &lt;int&gt; | V4 &lt;int&gt; | V5 &lt;int&gt; | V6 &lt;int&gt; | V7 &lt;int&gt; | V8 &lt;int&gt; | V9 &lt;int&gt; | V10 &lt;int&gt; | ⋯ ⋯ | V2742 &lt;int&gt; | V2743 &lt;int&gt; | V2744 &lt;int&gt; | V2745 &lt;int&gt; | V2746 &lt;int&gt; | V2747 &lt;int&gt; | V2748 &lt;int&gt; | V2749 &lt;int&gt; | V2750 &lt;int&gt; | V2751 &lt;int&gt; |\n",
       "|---|---|---|---|---|---|---|---|---|---|---|---|---|---|---|---|---|---|---|---|---|---|\n",
       "| truth_fact_sub_CD4 T-cells | 1 | 1 | 0 | 1 | 0 | 0 | 0 | 0 | 0 | 0 | ⋯ | 0 | 0 | 0 | 0 | 0 | 0 | 1 | 1 | 1 | 0 |\n",
       "| truth_fact_sub_CD8 T-cells | 0 | 0 | 0 | 0 | 1 | 1 | 1 | 0 | 1 | 1 | ⋯ | 1 | 1 | 1 | 1 | 0 | 0 | 0 | 0 | 0 | 0 |\n",
       "| truth_fact_sub_monocytes | 0 | 0 | 0 | 0 | 0 | 0 | 0 | 0 | 0 | 0 | ⋯ | 0 | 0 | 0 | 0 | 0 | 0 | 0 | 0 | 0 | 0 |\n",
       "| truth_fact_sub_naïve B cells | 0 | 0 | 0 | 0 | 0 | 0 | 0 | 0 | 0 | 0 | ⋯ | 0 | 0 | 0 | 0 | 0 | 0 | 0 | 0 | 0 | 0 |\n",
       "| truth_fact_sub_NK cells | 0 | 0 | 1 | 0 | 0 | 0 | 0 | 1 | 0 | 0 | ⋯ | 0 | 0 | 0 | 0 | 1 | 1 | 0 | 0 | 0 | 1 |\n",
       "\n"
      ],
      "text/plain": [
       "                             V1 V2 V3 V4 V5 V6 V7 V8 V9 V10 ⋯ V2742 V2743 V2744\n",
       "truth_fact_sub_CD4 T-cells   1  1  0  1  0  0  0  0  0  0   ⋯ 0     0     0    \n",
       "truth_fact_sub_CD8 T-cells   0  0  0  0  1  1  1  0  1  1   ⋯ 1     1     1    \n",
       "truth_fact_sub_monocytes     0  0  0  0  0  0  0  0  0  0   ⋯ 0     0     0    \n",
       "truth_fact_sub_naïve B cells 0  0  0  0  0  0  0  0  0  0   ⋯ 0     0     0    \n",
       "truth_fact_sub_NK cells      0  0  1  0  0  0  0  1  0  0   ⋯ 0     0     0    \n",
       "                             V2745 V2746 V2747 V2748 V2749 V2750 V2751\n",
       "truth_fact_sub_CD4 T-cells   0     0     0     1     1     1     0    \n",
       "truth_fact_sub_CD8 T-cells   1     0     0     0     0     0     0    \n",
       "truth_fact_sub_monocytes     0     0     0     0     0     0     0    \n",
       "truth_fact_sub_naïve B cells 0     0     0     0     0     0     0    \n",
       "truth_fact_sub_NK cells      0     1     1     0     0     0     1    "
      ]
     },
     "metadata": {},
     "output_type": "display_data"
    }
   ],
   "source": [
    "truth_fact_sub <- as.factor(truth)\n",
    "truth_onehot_sub <- as.data.frame(t(one_hot(as.data.table(truth_fact_sub))))\n",
    "truth_onehot_sub"
   ]
  },
  {
   "cell_type": "code",
   "execution_count": null,
   "metadata": {},
   "outputs": [],
   "source": []
  }
 ],
 "metadata": {
  "kernelspec": {
   "display_name": "R",
   "language": "R",
   "name": "ir"
  },
  "language_info": {
   "codemirror_mode": "r",
   "file_extension": ".r",
   "mimetype": "text/x-r-source",
   "name": "R",
   "pygments_lexer": "r",
   "version": "3.6.3"
  }
 },
 "nbformat": 4,
 "nbformat_minor": 4
}
